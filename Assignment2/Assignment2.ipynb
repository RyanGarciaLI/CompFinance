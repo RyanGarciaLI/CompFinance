{
 "cells": [
  {
   "attachments": {},
   "cell_type": "markdown",
   "metadata": {},
   "source": [
    "# Assignment 2\n",
    "\n",
    "SID: 1155107874\n",
    "\n",
    "Name: LI Yuxin"
   ]
  },
  {
   "attachments": {},
   "cell_type": "markdown",
   "metadata": {},
   "source": [
    "# Setting Up"
   ]
  },
  {
   "cell_type": "code",
   "execution_count": 47,
   "metadata": {},
   "outputs": [],
   "source": [
    "import pandas as pd\n",
    "import numpy as np"
   ]
  },
  {
   "cell_type": "code",
   "execution_count": 48,
   "metadata": {},
   "outputs": [
    {
     "data": {
      "text/html": [
       "<div>\n",
       "<style scoped>\n",
       "    .dataframe tbody tr th:only-of-type {\n",
       "        vertical-align: middle;\n",
       "    }\n",
       "\n",
       "    .dataframe tbody tr th {\n",
       "        vertical-align: top;\n",
       "    }\n",
       "\n",
       "    .dataframe thead th {\n",
       "        text-align: right;\n",
       "    }\n",
       "</style>\n",
       "<table border=\"1\" class=\"dataframe\">\n",
       "  <thead>\n",
       "    <tr style=\"text-align: right;\">\n",
       "      <th></th>\n",
       "      <th>Stock code</th>\n",
       "      <th>5</th>\n",
       "      <th>16</th>\n",
       "      <th>66</th>\n",
       "      <th>388</th>\n",
       "      <th>669</th>\n",
       "      <th>688</th>\n",
       "      <th>700</th>\n",
       "      <th>762</th>\n",
       "      <th>883</th>\n",
       "      <th>...</th>\n",
       "      <th>1044</th>\n",
       "      <th>1113</th>\n",
       "      <th>1211</th>\n",
       "      <th>1299</th>\n",
       "      <th>1810</th>\n",
       "      <th>2313</th>\n",
       "      <th>2318</th>\n",
       "      <th>2628</th>\n",
       "      <th>3968</th>\n",
       "      <th>9999</th>\n",
       "    </tr>\n",
       "  </thead>\n",
       "  <tbody>\n",
       "    <tr>\n",
       "      <td>0</td>\n",
       "      <td>2022-06-30</td>\n",
       "      <td>51.65</td>\n",
       "      <td>92.70</td>\n",
       "      <td>41.00</td>\n",
       "      <td>386.0</td>\n",
       "      <td>81.85</td>\n",
       "      <td>24.80</td>\n",
       "      <td>354.4</td>\n",
       "      <td>3.71</td>\n",
       "      <td>10.36</td>\n",
       "      <td>...</td>\n",
       "      <td>36.85</td>\n",
       "      <td>55.50</td>\n",
       "      <td>314.0</td>\n",
       "      <td>85.05</td>\n",
       "      <td>13.64</td>\n",
       "      <td>95.05</td>\n",
       "      <td>53.35</td>\n",
       "      <td>13.66</td>\n",
       "      <td>52.50</td>\n",
       "      <td>144.1</td>\n",
       "    </tr>\n",
       "    <tr>\n",
       "      <td>1</td>\n",
       "      <td>2022-07-04</td>\n",
       "      <td>51.25</td>\n",
       "      <td>92.80</td>\n",
       "      <td>40.85</td>\n",
       "      <td>374.0</td>\n",
       "      <td>85.25</td>\n",
       "      <td>25.05</td>\n",
       "      <td>347.0</td>\n",
       "      <td>3.72</td>\n",
       "      <td>10.28</td>\n",
       "      <td>...</td>\n",
       "      <td>36.75</td>\n",
       "      <td>56.10</td>\n",
       "      <td>315.8</td>\n",
       "      <td>85.25</td>\n",
       "      <td>13.84</td>\n",
       "      <td>91.30</td>\n",
       "      <td>53.50</td>\n",
       "      <td>13.50</td>\n",
       "      <td>51.75</td>\n",
       "      <td>145.3</td>\n",
       "    </tr>\n",
       "    <tr>\n",
       "      <td>2</td>\n",
       "      <td>2022-07-05</td>\n",
       "      <td>50.90</td>\n",
       "      <td>93.60</td>\n",
       "      <td>40.95</td>\n",
       "      <td>370.4</td>\n",
       "      <td>87.00</td>\n",
       "      <td>24.60</td>\n",
       "      <td>348.8</td>\n",
       "      <td>3.74</td>\n",
       "      <td>10.40</td>\n",
       "      <td>...</td>\n",
       "      <td>36.55</td>\n",
       "      <td>56.05</td>\n",
       "      <td>313.6</td>\n",
       "      <td>86.00</td>\n",
       "      <td>13.36</td>\n",
       "      <td>91.00</td>\n",
       "      <td>53.30</td>\n",
       "      <td>13.54</td>\n",
       "      <td>51.45</td>\n",
       "      <td>145.1</td>\n",
       "    </tr>\n",
       "    <tr>\n",
       "      <td>3</td>\n",
       "      <td>2022-07-06</td>\n",
       "      <td>49.10</td>\n",
       "      <td>93.95</td>\n",
       "      <td>41.00</td>\n",
       "      <td>367.8</td>\n",
       "      <td>87.55</td>\n",
       "      <td>24.50</td>\n",
       "      <td>347.6</td>\n",
       "      <td>3.73</td>\n",
       "      <td>9.90</td>\n",
       "      <td>...</td>\n",
       "      <td>36.35</td>\n",
       "      <td>56.05</td>\n",
       "      <td>317.4</td>\n",
       "      <td>84.60</td>\n",
       "      <td>13.18</td>\n",
       "      <td>90.60</td>\n",
       "      <td>52.15</td>\n",
       "      <td>12.48</td>\n",
       "      <td>50.25</td>\n",
       "      <td>142.3</td>\n",
       "    </tr>\n",
       "    <tr>\n",
       "      <td>4</td>\n",
       "      <td>2022-07-07</td>\n",
       "      <td>49.65</td>\n",
       "      <td>93.35</td>\n",
       "      <td>41.20</td>\n",
       "      <td>370.6</td>\n",
       "      <td>87.95</td>\n",
       "      <td>24.40</td>\n",
       "      <td>351.6</td>\n",
       "      <td>3.73</td>\n",
       "      <td>9.84</td>\n",
       "      <td>...</td>\n",
       "      <td>36.60</td>\n",
       "      <td>56.75</td>\n",
       "      <td>325.0</td>\n",
       "      <td>84.95</td>\n",
       "      <td>13.42</td>\n",
       "      <td>89.90</td>\n",
       "      <td>52.50</td>\n",
       "      <td>12.54</td>\n",
       "      <td>48.60</td>\n",
       "      <td>139.2</td>\n",
       "    </tr>\n",
       "    <tr>\n",
       "      <td>...</td>\n",
       "      <td>...</td>\n",
       "      <td>...</td>\n",
       "      <td>...</td>\n",
       "      <td>...</td>\n",
       "      <td>...</td>\n",
       "      <td>...</td>\n",
       "      <td>...</td>\n",
       "      <td>...</td>\n",
       "      <td>...</td>\n",
       "      <td>...</td>\n",
       "      <td>...</td>\n",
       "      <td>...</td>\n",
       "      <td>...</td>\n",
       "      <td>...</td>\n",
       "      <td>...</td>\n",
       "      <td>...</td>\n",
       "      <td>...</td>\n",
       "      <td>...</td>\n",
       "      <td>...</td>\n",
       "      <td>...</td>\n",
       "      <td>...</td>\n",
       "    </tr>\n",
       "    <tr>\n",
       "      <td>122</td>\n",
       "      <td>2022-12-22</td>\n",
       "      <td>48.20</td>\n",
       "      <td>105.50</td>\n",
       "      <td>41.20</td>\n",
       "      <td>337.4</td>\n",
       "      <td>89.10</td>\n",
       "      <td>20.30</td>\n",
       "      <td>323.8</td>\n",
       "      <td>4.68</td>\n",
       "      <td>9.81</td>\n",
       "      <td>...</td>\n",
       "      <td>41.30</td>\n",
       "      <td>48.30</td>\n",
       "      <td>201.6</td>\n",
       "      <td>83.90</td>\n",
       "      <td>11.02</td>\n",
       "      <td>86.70</td>\n",
       "      <td>50.50</td>\n",
       "      <td>12.48</td>\n",
       "      <td>42.20</td>\n",
       "      <td>115.6</td>\n",
       "    </tr>\n",
       "    <tr>\n",
       "      <td>123</td>\n",
       "      <td>2022-12-23</td>\n",
       "      <td>47.90</td>\n",
       "      <td>105.90</td>\n",
       "      <td>40.90</td>\n",
       "      <td>340.0</td>\n",
       "      <td>88.25</td>\n",
       "      <td>20.55</td>\n",
       "      <td>320.2</td>\n",
       "      <td>5.00</td>\n",
       "      <td>9.81</td>\n",
       "      <td>...</td>\n",
       "      <td>40.85</td>\n",
       "      <td>48.25</td>\n",
       "      <td>194.1</td>\n",
       "      <td>86.70</td>\n",
       "      <td>10.80</td>\n",
       "      <td>86.30</td>\n",
       "      <td>50.45</td>\n",
       "      <td>12.56</td>\n",
       "      <td>41.65</td>\n",
       "      <td>113.3</td>\n",
       "    </tr>\n",
       "    <tr>\n",
       "      <td>124</td>\n",
       "      <td>2022-12-28</td>\n",
       "      <td>48.50</td>\n",
       "      <td>105.20</td>\n",
       "      <td>41.20</td>\n",
       "      <td>342.6</td>\n",
       "      <td>88.90</td>\n",
       "      <td>20.55</td>\n",
       "      <td>326.2</td>\n",
       "      <td>4.87</td>\n",
       "      <td>9.98</td>\n",
       "      <td>...</td>\n",
       "      <td>41.05</td>\n",
       "      <td>48.00</td>\n",
       "      <td>193.0</td>\n",
       "      <td>86.90</td>\n",
       "      <td>11.22</td>\n",
       "      <td>88.60</td>\n",
       "      <td>51.25</td>\n",
       "      <td>13.06</td>\n",
       "      <td>43.30</td>\n",
       "      <td>114.6</td>\n",
       "    </tr>\n",
       "    <tr>\n",
       "      <td>125</td>\n",
       "      <td>2022-12-29</td>\n",
       "      <td>48.40</td>\n",
       "      <td>104.80</td>\n",
       "      <td>41.15</td>\n",
       "      <td>340.0</td>\n",
       "      <td>87.45</td>\n",
       "      <td>20.15</td>\n",
       "      <td>335.2</td>\n",
       "      <td>4.82</td>\n",
       "      <td>9.94</td>\n",
       "      <td>...</td>\n",
       "      <td>40.60</td>\n",
       "      <td>48.00</td>\n",
       "      <td>191.0</td>\n",
       "      <td>85.10</td>\n",
       "      <td>10.86</td>\n",
       "      <td>86.50</td>\n",
       "      <td>50.70</td>\n",
       "      <td>13.06</td>\n",
       "      <td>43.20</td>\n",
       "      <td>111.3</td>\n",
       "    </tr>\n",
       "    <tr>\n",
       "      <td>126</td>\n",
       "      <td>2022-12-30</td>\n",
       "      <td>48.55</td>\n",
       "      <td>106.80</td>\n",
       "      <td>41.35</td>\n",
       "      <td>337.2</td>\n",
       "      <td>87.10</td>\n",
       "      <td>20.60</td>\n",
       "      <td>334.0</td>\n",
       "      <td>4.83</td>\n",
       "      <td>9.98</td>\n",
       "      <td>...</td>\n",
       "      <td>41.45</td>\n",
       "      <td>48.05</td>\n",
       "      <td>192.6</td>\n",
       "      <td>86.80</td>\n",
       "      <td>10.94</td>\n",
       "      <td>87.80</td>\n",
       "      <td>51.65</td>\n",
       "      <td>13.40</td>\n",
       "      <td>43.65</td>\n",
       "      <td>114.5</td>\n",
       "    </tr>\n",
       "  </tbody>\n",
       "</table>\n",
       "<p>127 rows × 21 columns</p>\n",
       "</div>"
      ],
      "text/plain": [
       "    Stock code      5      16     66    388    669    688    700   762    883  \\\n",
       "0   2022-06-30  51.65   92.70  41.00  386.0  81.85  24.80  354.4  3.71  10.36   \n",
       "1   2022-07-04  51.25   92.80  40.85  374.0  85.25  25.05  347.0  3.72  10.28   \n",
       "2   2022-07-05  50.90   93.60  40.95  370.4  87.00  24.60  348.8  3.74  10.40   \n",
       "3   2022-07-06  49.10   93.95  41.00  367.8  87.55  24.50  347.6  3.73   9.90   \n",
       "4   2022-07-07  49.65   93.35  41.20  370.6  87.95  24.40  351.6  3.73   9.84   \n",
       "..         ...    ...     ...    ...    ...    ...    ...    ...   ...    ...   \n",
       "122 2022-12-22  48.20  105.50  41.20  337.4  89.10  20.30  323.8  4.68   9.81   \n",
       "123 2022-12-23  47.90  105.90  40.90  340.0  88.25  20.55  320.2  5.00   9.81   \n",
       "124 2022-12-28  48.50  105.20  41.20  342.6  88.90  20.55  326.2  4.87   9.98   \n",
       "125 2022-12-29  48.40  104.80  41.15  340.0  87.45  20.15  335.2  4.82   9.94   \n",
       "126 2022-12-30  48.55  106.80  41.35  337.2  87.10  20.60  334.0  4.83   9.98   \n",
       "\n",
       "     ...   1044   1113   1211   1299   1810   2313   2318   2628   3968   9999  \n",
       "0    ...  36.85  55.50  314.0  85.05  13.64  95.05  53.35  13.66  52.50  144.1  \n",
       "1    ...  36.75  56.10  315.8  85.25  13.84  91.30  53.50  13.50  51.75  145.3  \n",
       "2    ...  36.55  56.05  313.6  86.00  13.36  91.00  53.30  13.54  51.45  145.1  \n",
       "3    ...  36.35  56.05  317.4  84.60  13.18  90.60  52.15  12.48  50.25  142.3  \n",
       "4    ...  36.60  56.75  325.0  84.95  13.42  89.90  52.50  12.54  48.60  139.2  \n",
       "..   ...    ...    ...    ...    ...    ...    ...    ...    ...    ...    ...  \n",
       "122  ...  41.30  48.30  201.6  83.90  11.02  86.70  50.50  12.48  42.20  115.6  \n",
       "123  ...  40.85  48.25  194.1  86.70  10.80  86.30  50.45  12.56  41.65  113.3  \n",
       "124  ...  41.05  48.00  193.0  86.90  11.22  88.60  51.25  13.06  43.30  114.6  \n",
       "125  ...  40.60  48.00  191.0  85.10  10.86  86.50  50.70  13.06  43.20  111.3  \n",
       "126  ...  41.45  48.05  192.6  86.80  10.94  87.80  51.65  13.40  43.65  114.5  \n",
       "\n",
       "[127 rows x 21 columns]"
      ]
     },
     "execution_count": 48,
     "metadata": {},
     "output_type": "execute_result"
    }
   ],
   "source": [
    "stock_data = pd.read_excel(\"stock data.xlsx\", sheet_name=\"stock prices\")\n",
    "stock_data"
   ]
  },
  {
   "cell_type": "code",
   "execution_count": 49,
   "metadata": {},
   "outputs": [],
   "source": [
    "index1 = 1113; index2 = 688\n",
    "s1 = stock_data[index1]; s2 = stock_data[index2]"
   ]
  },
  {
   "cell_type": "markdown",
   "metadata": {},
   "source": [
    "# Part I: Exotic Option Pricing "
   ]
  },
  {
   "cell_type": "markdown",
   "metadata": {},
   "source": [
    "## 1. Volatility and correlation calculation from historical data\n",
    "### i) Calculate the realized volatilities of stock S1 and stock S2 "
   ]
  },
  {
   "cell_type": "code",
   "execution_count": 50,
   "metadata": {},
   "outputs": [
    {
     "name": "stdout",
     "output_type": "stream",
     "text": [
      "Volatility of Stock 1113 and 688 are 0.25889 and 0.49836 respectively\n"
     ]
    }
   ],
   "source": [
    "def daily_rtn(daily_price): return np.log(daily_price / daily_price.shift(1))\n",
    "\n",
    "def volatility(rtn):\n",
    "    mu = np.mean(rtn)\n",
    "    n = np.count_nonzero(~np.isnan(rtn))\n",
    "    return np.sqrt(np.sum((rtn-mu)**2) / (n-1)) * np.sqrt(252)\n",
    "\n",
    "u1 = daily_rtn(s1)\n",
    "u2 = daily_rtn(s2)\n",
    "\n",
    "# using own implementation\n",
    "# sigma1 = volatility(u1)\n",
    "# sigma2 = volatility(u2)\n",
    "\n",
    "# using APIs\n",
    "from pandas.core.frame import DataFrame\n",
    "u1 = DataFrame(u1); u2 = DataFrame(u2)\n",
    "sigma1 = (u1.std() * np.sqrt(252)).values[0]\n",
    "sigma2 = (u2.std() * np.sqrt(252)).values[0]\n",
    "\n",
    "print(f\"Volatility of Stock {index1} and {index2} are {sigma1:.5f} and {sigma2:.5f} respectively\")"
   ]
  },
  {
   "cell_type": "markdown",
   "metadata": {},
   "source": [
    "### ii) Calculate the correlation coefficient 𝜌12 of stock S1 and stock S2"
   ]
  },
  {
   "cell_type": "code",
   "execution_count": 51,
   "metadata": {},
   "outputs": [
    {
     "name": "stdout",
     "output_type": "stream",
     "text": [
      "correlation of Stock 1113 and 688 are 0.35814\n"
     ]
    }
   ],
   "source": [
    "M_corr = u1.join(u2).corr()\n",
    "rho12 = M_corr.loc[index1, index2]\n",
    "print(f'correlation of Stock {index1} and {index2} are {rho12:.5f}')"
   ]
  },
  {
   "cell_type": "markdown",
   "metadata": {},
   "source": [
    "## 2. Option pricing with Monte Carlo simulation"
   ]
  },
  {
   "cell_type": "markdown",
   "metadata": {},
   "source": [
    "### i) Use a Monte Carlo scheme with time steps N = 180, i.e. delta t = T/N = 1/180. Give the answers with: (a) 1000 paths; (b) 10000 paths; (c) 100000 paths; (d) 500000 paths."
   ]
  },
  {
   "cell_type": "code",
   "execution_count": 52,
   "metadata": {},
   "outputs": [
    {
     "name": "stdout",
     "output_type": "stream",
     "text": [
      "(a) Monte Carlo Simulate   1000 paths, optiion price is 0.18220\n",
      "(b) Monte Carlo Simulate  10000 paths, optiion price is 0.18903\n",
      "(c) Monte Carlo Simulate 100000 paths, optiion price is 0.18684\n",
      "(d) Monte Carlo Simulate 500000 paths, optiion price is 0.18636\n"
     ]
    }
   ],
   "source": [
    "N = 180\n",
    "T = 1\n",
    "r = 3.75 * 0.01\n",
    "question = ['a', 'b', 'c', 'd']\n",
    "\n",
    "def ABoO_payoff(S10, S11, S12, S20, S21, S22):\n",
    "    B1 = np.max([S11/S10, S21/S20])\n",
    "    B2 = np.max([S12/S10, S22/S20])\n",
    "    A = (B1 + B2) * 0.5\n",
    "    return np.max(A - 1.0, 0)\n",
    "\n",
    "\n",
    "def Monte_Carlo_2_stocks(S10, S20, sigma1, sigma2, rho12, dt, step, rate):\n",
    "    s_1 = S10; s_2 = S20\n",
    "    for _ in range(step):\n",
    "        x1,x2 = np.random.normal(0,1,2)\n",
    "        e1 = x1; e2 = rho12 * x1 + x2 * np.sqrt(1 - rho12**2)\n",
    "        s_1 += s_1 * (rate * dt + sigma1 * e1 * np.sqrt(dt))\n",
    "        s_2 += s_2 * (rate * dt + sigma2 * e2 * np.sqrt(dt))\n",
    "    \n",
    "    return s_1, s_2\n",
    "\n",
    "    \n",
    "def option_price(path, s10, s20, T, step, rate):\n",
    "    payoff_list = np.zeros(path)\n",
    "    dt = T / step\n",
    "    for i in range(path):\n",
    "        s11, s21 = Monte_Carlo_2_stocks(s10, s20, sigma1, sigma2, rho12, dt, step//2, rate) # 1st half year\n",
    "        s12, s22 = Monte_Carlo_2_stocks(s11, s21, sigma1, sigma2, rho12, dt, step//2, rate) # 2nd half year\n",
    "        payoff_list[i] = ABoO_payoff(s10, s11, s12, s20, s21, s22)\n",
    "        \n",
    "    return payoff_list.mean() * np.exp(-rate*T)\n",
    "\n",
    "import time\n",
    "\n",
    "np.random.seed(5718) # for reproduction\n",
    "\n",
    "paths = [1000, 10000, 100000, 500000]\n",
    "# paths = [1000, 10000, 100000]\n",
    "prices = []\n",
    "\n",
    "for p in paths:\n",
    "    \n",
    "    start_time = time.time()\n",
    "    \n",
    "    # simulate p times\n",
    "    price = option_price(p, s1[s1.size-1], s2[s2.size-1], T, N, r)\n",
    "    prices.append(price)\n",
    "    \n",
    "    # print(f\"time: {(time.time() - start_time)/60:.8f} min\")\n",
    "    start_time = time.time()\n",
    "\n",
    "\n",
    "for i in range(len(paths)):\n",
    "    print(f\"({question[i]}) Monte Carlo Simulate {paths[i]:6d} paths, optiion price is {prices[i]:.5f}\")"
   ]
  },
  {
   "cell_type": "markdown",
   "metadata": {},
   "source": [
    "### ii) Use a Monte Carlo scheme with two time steps N = 2, delta t1 = delta t2 = 1⁄2. Give the answers with: (a) 1000 paths; (b) 10000 paths; (c) 100000 paths; (d) 500000 paths."
   ]
  },
  {
   "cell_type": "code",
   "execution_count": 54,
   "metadata": {},
   "outputs": [
    {
     "name": "stdout",
     "output_type": "stream",
     "text": [
      "(a) Monte Carlo Simulate   1000 paths, optiion price is 0.18741\n",
      "(b) Monte Carlo Simulate  10000 paths, optiion price is 0.18256\n",
      "(c) Monte Carlo Simulate 100000 paths, optiion price is 0.18626\n",
      "(d) Monte Carlo Simulate 500000 paths, optiion price is 0.18532\n"
     ]
    }
   ],
   "source": [
    "N = 2\n",
    "T = 1\n",
    "\n",
    "def Monte_Carlo_2_stocks(S10, S20, sigma1, sigma2, rho12, dt, step, rate):\n",
    "    s_1 = S10; s_2 = S20\n",
    "    for _ in range(step):\n",
    "        x1,x2 = np.random.normal(0,1,2)\n",
    "        e1 = x1; e2 = rho12 * x1 + x2 * np.sqrt(1 - rho12**2)\n",
    "        s_1 *= np.exp((rate - sigma1**2 / 2) * dt + sigma1 * e1 * np.sqrt(dt))\n",
    "        s_2 *= np.exp((rate - sigma2**2 / 2) * dt + sigma2 * e2 * np.sqrt(dt))\n",
    "    \n",
    "    return s_1, s_2\n",
    "\n",
    "    \n",
    "def option_price(path, s10, s20, T, step, rate):\n",
    "    payoff_list = np.zeros(path)\n",
    "    dt = T / step\n",
    "    for i in range(path):\n",
    "        s11, s21 = Monte_Carlo_2_stocks(s10, s20, sigma1, sigma2, rho12, dt, step//2, rate) # 1st half year\n",
    "        s12, s22 = Monte_Carlo_2_stocks(s11, s21, sigma1, sigma2, rho12, dt, step//2, rate) # 2nd half year\n",
    "        payoff_list[i] = ABoO_payoff(s10, s11, s12, s20, s21, s22)\n",
    "        \n",
    "    return payoff_list.mean() * np.exp(-rate*T)\n",
    "\n",
    "\n",
    "np.random.seed(5718) # for reproduction\n",
    "\n",
    "paths = [1000, 10000, 100000, 500000]\n",
    "prices = []\n",
    "\n",
    "for p in paths:\n",
    "    # simulate p times\n",
    "    price = option_price(p, s1[s1.size-1], s2[s2.size-1], T, N, r)\n",
    "    prices.append(price)\n",
    "\n",
    "\n",
    "for i in range(len(paths)):\n",
    "    print(f\"({question[i]}) Monte Carlo Simulate {paths[i]:6d} paths, optiion price is {prices[i]:.5f}\")"
   ]
  },
  {
   "cell_type": "markdown",
   "metadata": {},
   "source": [
    "# Part II: Pricing of a structured product"
   ]
  },
  {
   "cell_type": "code",
   "execution_count": 55,
   "metadata": {},
   "outputs": [],
   "source": [
    "K0 = 105 * 0.01\n",
    "KI = 95 * 0.01\n",
    "AC = 100 * 0.01\n",
    "CP1 = 0.8 * 0.01\n",
    "CP2 = 0.55 * 0.01\n",
    "sigma_im = 27.1 * 0.01\n",
    "S0 = 48.05"
   ]
  },
  {
   "cell_type": "code",
   "execution_count": 56,
   "metadata": {},
   "outputs": [],
   "source": [
    "def auto_call(t, Dc, S, Pc): return t >= Dc and S >= Pc\n",
    "\n",
    "def knock_in(t, Ds, S, Pk): return t > Ds and S < Pk\n",
    "\n",
    "def expiry_payoff(ctn_ki, Sm, K, NOM): return NOM if ctn_ki == 0 or Sm >= K else NOM * Sm / K \n",
    "\n",
    "def discount_factor(r, t): return np.exp(-r * t)\n",
    "\n",
    "def Monte_Carlo(s0, sigma, dt, step, rate, Ds, Pk, K, NOM, Dc, Pc, CP, cp_date):\n",
    "    \n",
    "    t = 0\n",
    "    s = s0 # close\n",
    "    ctn_ki = 0\n",
    "    next_cp_date = 0\n",
    "    payoff = 0\n",
    "\n",
    "    for i in range(step):\n",
    "        \n",
    "        t += dt\n",
    "        e = np.random.normal()\n",
    "        s *= np.exp((rate - sigma**2 / 2) * dt + sigma * e * np.sqrt(dt)) # close \n",
    "        \n",
    "        if knock_in(t, Ds, s, Pk):\n",
    "            ctn_ki += 1\n",
    "        \n",
    "        if t >= cp_date[next_cp_date]:   \n",
    "            payoff += NOM * CP * discount_factor(r, t)\n",
    "            # print(f\"At coupon date: {next_cp_date}, t = {t:.5f}, payoff = {payoff}\")\n",
    "            next_cp_date += 1\n",
    "            \n",
    "        if auto_call(t, Dc, s, Pc):\n",
    "            # early terminate\n",
    "            accured_int = NOM * CP * (t - cp_date[next_cp_date-1]) * 360 / 30 * discount_factor(r,t)\n",
    "            # print(f\">>> terminate by auto call: t = {t}, Dc = {Dc} s = {s}, Pc = {Pc}, i = {i}\")\n",
    "            return payoff + NOM + accured_int, True\n",
    "            \n",
    "    # on expire date\n",
    "    payoff += NOM * CP * discount_factor(r, t)\n",
    "    payoff += expiry_payoff(ctn_ki, s, K, NOM) * discount_factor(r,t)\n",
    "    # print(f\">>> terminate by expire: KI = {ctn_ki}, s = {s}, K = {K}, i = {i}\")\n",
    "    return payoff, False\n",
    "\n",
    "def print_ans(questions, paths, fair_prices, profits, autocall_count, NOM, step):\n",
    "    for i in range(len(paths)):\n",
    "        q = questions[i]\n",
    "        path = paths[i]\n",
    "        price = fair_prices[i]\n",
    "        profit = profits[i]\n",
    "        ctn = autocall_count[i]\n",
    "        print(f\"({q}) Monte Carlo Simulate {path:6d} paths: \\tProduct fair price: {price:.3f} ({price/NOM*100:.3f}%); \\tInvestment bank profit: {profit:.3f} ({profit/NOM*100:.3f}%); \\tNum of Autocall: {ctn:6d} ({ctn/path*100:.2f}%)\")"
   ]
  },
  {
   "cell_type": "markdown",
   "metadata": {},
   "source": [
    "### 1. Calculate the fair price of the product F% with coupon per month CP set 1. Give the answers based on (a) 1000; (b) 10000; (c) 100000; and (d) 500000 Monte Carlo paths. In each case, record the number of times the auto-call condition is triggered. If the product is sold at an initial price of P=100%, what is the profit of the investment bank?"
   ]
  },
  {
   "cell_type": "code",
   "execution_count": 57,
   "metadata": {},
   "outputs": [
    {
     "name": "stdout",
     "output_type": "stream",
     "text": [
      "(a) Monte Carlo Simulate   1000 paths: \tProduct fair price: 98153.514 (98.154%); \tInvestment bank profit: 1846.486 (1.846%); \tNum of Autocall:    858 (85.80%)\n",
      "(b) Monte Carlo Simulate  10000 paths: \tProduct fair price: 97987.239 (97.987%); \tInvestment bank profit: 2012.761 (2.013%); \tNum of Autocall:   8560 (85.60%)\n",
      "(c) Monte Carlo Simulate 100000 paths: \tProduct fair price: 98161.469 (98.161%); \tInvestment bank profit: 1838.531 (1.839%); \tNum of Autocall:  86285 (86.28%)\n",
      "(d) Monte Carlo Simulate 500000 paths: \tProduct fair price: 98133.458 (98.133%); \tInvestment bank profit: 1866.542 (1.867%); \tNum of Autocall: 430722 (86.14%)\n"
     ]
    }
   ],
   "source": [
    "NOM = 100000\n",
    "\n",
    "t = 0\n",
    "Ds = t\n",
    "Dc = t + 1/12\n",
    "\n",
    "K = S0 * K0\n",
    "Pc = S0 * AC\n",
    "Pk = S0 * KI\n",
    "\n",
    "CP_DATE = np.array(range(1,8)) / 12\n",
    "\n",
    "N = 210\n",
    "T = 7/12\n",
    "r = 3.75 * 0.01\n",
    "P = 100 * 0.01\n",
    "\n",
    "def fair_price(path, s0, T, step, sigma, rate, Ds, Pk, K, NOM, Dc, Pc, CP, cp_date):\n",
    "    payoff_list = np.zeros(path)\n",
    "    dt = T / step\n",
    "    ac_ctn = 0\n",
    "    for i in range(path):\n",
    "        # print(\"-\" * 60)\n",
    "        payoff_list[i], ac = Monte_Carlo(s0, sigma, dt, step, rate, Ds, Pk, K, NOM, Dc, Pc, CP, cp_date)\n",
    "        if ac:\n",
    "            ac_ctn += 1\n",
    "    \n",
    "    return payoff_list.mean(), ac_ctn\n",
    "\n",
    "\n",
    "np.random.seed(5718) # for reproduction\n",
    "\n",
    "paths = [1000, 10000, 100000, 500000]\n",
    "\n",
    "fair_prices = []\n",
    "autocall_ctn = []\n",
    "\n",
    "for p in paths:\n",
    "    # simulate p times\n",
    "    price, ac_ctn = fair_price(p, S0, T, N, sigma_im, r, Ds, Pk, K, NOM, Dc, Pc, CP1, CP_DATE)\n",
    "    fair_prices.append(price)\n",
    "    autocall_ctn.append(ac_ctn)\n",
    "\n",
    "fair_prices = np.array(fair_prices)\n",
    "profit = NOM * P - fair_prices\n",
    "\n",
    "print_ans(question, paths, fair_prices, profit, autocall_ctn, NOM, N)"
   ]
  },
  {
   "attachments": {},
   "cell_type": "markdown",
   "metadata": {},
   "source": [
    "### 2. Repeat the above calculations with coupon per month CP set 2. What is the additional profit of the investment bank in each case?"
   ]
  },
  {
   "cell_type": "code",
   "execution_count": 58,
   "metadata": {},
   "outputs": [
    {
     "name": "stdout",
     "output_type": "stream",
     "text": [
      "(a) Monte Carlo Simulate   1000 paths: \tProduct fair price: 97581.474 (97.581%); \tInvestment bank profit: 2418.526 (2.419%); \tNum of Autocall:    858 (85.80%)\n",
      "(b) Monte Carlo Simulate  10000 paths: \tProduct fair price: 97416.186 (97.416%); \tInvestment bank profit: 2583.814 (2.584%); \tNum of Autocall:   8560 (85.60%)\n",
      "(c) Monte Carlo Simulate 100000 paths: \tProduct fair price: 97599.275 (97.599%); \tInvestment bank profit: 2400.725 (2.401%); \tNum of Autocall:  86285 (86.28%)\n",
      "(d) Monte Carlo Simulate 500000 paths: \tProduct fair price: 97568.221 (97.568%); \tInvestment bank profit: 2431.779 (2.432%); \tNum of Autocall: 430722 (86.14%)\n"
     ]
    }
   ],
   "source": [
    "np.random.seed(5718) # for reproduction\n",
    "\n",
    "paths = [1000, 10000, 100000, 500000]\n",
    "\n",
    "fair_prices = []\n",
    "autocall_ctn = []\n",
    "\n",
    "for p in paths:\n",
    "    # simulate p times\n",
    "    price, ac_ctn = fair_price(p, S0, T, N, sigma_im, r, Ds, Pk, K, NOM, Dc, Pc, CP2, CP_DATE)\n",
    "    fair_prices.append(price)\n",
    "    autocall_ctn.append(ac_ctn)\n",
    "\n",
    "fair_prices = np.array(fair_prices)\n",
    "profit = NOM * P - fair_prices\n",
    "\n",
    "print_ans(question, paths, fair_prices, profit, autocall_ctn, NOM, N)"
   ]
  },
  {
   "attachments": {},
   "cell_type": "markdown",
   "metadata": {},
   "source": [
    "### 3. Instead of using the given CP, find the level of CP such that the initial profit margin of the investment bank is 2.50%. You only need to generate one result based on 500000 Monte Carlo paths."
   ]
  },
  {
   "cell_type": "code",
   "execution_count": 59,
   "metadata": {},
   "outputs": [
    {
     "name": "stdout",
     "output_type": "stream",
     "text": [
      "coupon rate: 0.52200000%, \tfair price 97499.965, \tprofit: 2500.035 (2.500%)\n"
     ]
    }
   ],
   "source": [
    "CPs = np.array([0.522,]) * 0.01\n",
    "\n",
    "path = 500000\n",
    "fair_prices = []\n",
    "autocall_ctn = []\n",
    "for cp in CPs:\n",
    "    np.random.seed(5718) # for reproduction\n",
    "    price, _ = fair_price(path, S0, T, N, sigma_im, r, Ds, Pk, K, NOM, Dc, Pc, cp, CP_DATE)\n",
    "    fair_prices.append(price)\n",
    "    autocall_ctn.append(ac_ctn)\n",
    "\n",
    "fair_prices = np.array(fair_prices)\n",
    "profits = NOM * P - fair_prices\n",
    "\n",
    "for i in range(len(CPs)):\n",
    "    p = profits[i]\n",
    "    print(f'coupon rate: {CPs[i]*100:.8f}%, \\tfair price {fair_prices[i]:.3f}, \\tprofit: {p:.3f} ({p/NOM*100:.3f}%)')"
   ]
  },
  {
   "attachments": {},
   "cell_type": "markdown",
   "metadata": {},
   "source": [
    "### 4. The above pricing procedure is an approximation (refer to the comments in the course notes). In real life, weekends and holidays need to be considered and these are non-business days. If the above procedure is modified by taking these into account, do you think that the coupon calculated to be higher or lower than CP calculated in question 3 above? Give a brief reason to explain your answer."
   ]
  },
  {
   "attachments": {},
   "cell_type": "markdown",
   "metadata": {},
   "source": [
    "It depends on how does the ratio of num_days and total_days change. The profit of investment banks is equal to investors payment minus product fair price. If other parameters are unchanged and the proft keeps the same, the fair price must keep the same. The fair price of a product is the average payoff of the product. In the earily termination condition, the payoff includes accrude interest, i.e NOM * CP * num_days / total_days, it's clear that either higher ratio or coupoun rate will get higher payoff. Assume autocall is triggered at the same day in the two scenarios that non-business days are considered or not, to balance the change in those cases: (i) if the ratio of num_days and total_days decreases, the coupon rate should go higher; (ii) if the ratio of num_days and total_days increases, the coupon rate should go lower."
   ]
  },
  {
   "attachments": {},
   "cell_type": "markdown",
   "metadata": {},
   "source": [
    "Assume there are 30 days in one month. There are at most 22 trading days in one month. Let X denote the number of days between the call date and the coupon date immediately preceding the call date, i.e. num_days; Let Y denote the number of days between the coupon dates immediately preceding and following the call date, i.e. total_days. The change of the ratio R = X / Y can discuss as follows:\n",
    "\n",
    "Example Case 1: There is no non-business day before autocall and there are 22 trading days in this month, e.g. X = 1, Y = 30 -> Y' = 22. If an autocall is triggered, the payoff changes:"
   ]
  },
  {
   "cell_type": "code",
   "execution_count": 60,
   "metadata": {},
   "outputs": [
    {
     "name": "stdout",
     "output_type": "stream",
     "text": [
      "The payoff of considering non-business days: X / Y = 0.033; \tThe payoff of considering business days only: Xp / Yp = 0.045 \tthe ratio increases.\n"
     ]
    }
   ],
   "source": [
    "X = 1; Xp = 1; Y = 30; Yp = 22\n",
    "print(f\"The payoff of considering non-business days: X / Y = {X/Y:.3f}; \\tThe payoff of considering business days only: Xp / Yp = {Xp/Yp:.3f} \\tthe ratio increases.\")"
   ]
  },
  {
   "attachments": {},
   "cell_type": "markdown",
   "metadata": {},
   "source": [
    "Example Case 2: There are 22 trading days in this month, and today is the 21st trading day and 29th days, i.e., X = 29 -> Xp = 21, Y = 30 -> Y' = 22. If an autocall is triggered, the payoff changes: "
   ]
  },
  {
   "cell_type": "code",
   "execution_count": 61,
   "metadata": {},
   "outputs": [
    {
     "name": "stdout",
     "output_type": "stream",
     "text": [
      "The payoff of considering non-business days: X / Y = 0.967; \tThe payoff of considering business days only: Xp / Yp = 0.955 \tthe ratio decreases.\n"
     ]
    }
   ],
   "source": [
    "X = 29; Xp = 21; Y = 30; Yp = 22\n",
    "print(f\"The payoff of considering non-business days: X / Y = {X/Y:.3f}; \\tThe payoff of considering business days only: Xp / Yp = {Xp/Yp:.3f} \\tthe ratio decreases.\")"
   ]
  },
  {
   "attachments": {},
   "cell_type": "markdown",
   "metadata": {},
   "source": [
    "In conclusion, we can't guarantee how will the ratio X / Y change. The actual change of CP depends on the ratio of num_days and total_days which is undetermined."
   ]
  }
 ],
 "metadata": {
  "kernelspec": {
   "display_name": "Python 3",
   "language": "python",
   "name": "python3"
  },
  "language_info": {
   "codemirror_mode": {
    "name": "ipython",
    "version": 3
   },
   "file_extension": ".py",
   "mimetype": "text/x-python",
   "name": "python",
   "nbconvert_exporter": "python",
   "pygments_lexer": "ipython3",
   "version": "3.7.4"
  }
 },
 "nbformat": 4,
 "nbformat_minor": 2
}
